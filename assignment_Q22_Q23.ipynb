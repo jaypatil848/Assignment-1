{
  "nbformat": 4,
  "nbformat_minor": 0,
  "metadata": {
    "colab": {
      "name": "assignment Q22/Q23.ipynb",
      "provenance": [],
      "collapsed_sections": [],
      "authorship_tag": "ABX9TyOarUxTx5OEtNwFl9p2r3m6",
      "include_colab_link": true
    },
    "kernelspec": {
      "name": "python3",
      "display_name": "Python 3"
    },
    "language_info": {
      "name": "python"
    }
  },
  "cells": [
    {
      "cell_type": "markdown",
      "metadata": {
        "id": "view-in-github",
        "colab_type": "text"
      },
      "source": [
        "<a href=\"https://colab.research.google.com/github/jaypatil848/Assignment_1/blob/main/assignment_Q22_Q23.ipynb\" target=\"_parent\"><img src=\"https://colab.research.google.com/assets/colab-badge.svg\" alt=\"Open In Colab\"/></a>"
      ]
    },
    {
      "cell_type": "code",
      "execution_count": null,
      "metadata": {
        "id": "S4LHOItjNL_t"
      },
      "outputs": [],
      "source": [
        "from scipy import stats\n",
        "from scipy.stats import norm "
      ]
    },
    {
      "cell_type": "markdown",
      "source": [
        "# Question no 22\n",
        " "
      ],
      "metadata": {
        "id": "IXxztuIqR5kZ"
      }
    },
    {
      "cell_type": "code",
      "source": [
        "## Z-score of 90% confidence interval \n",
        "stats.norm.ppf(0.95)"
      ],
      "metadata": {
        "colab": {
          "base_uri": "https://localhost:8080/"
        },
        "id": "ikGSWD_LNRM9",
        "outputId": "206224a1-7d7e-4eb4-ce1e-2571791628fd"
      },
      "execution_count": null,
      "outputs": [
        {
          "output_type": "execute_result",
          "data": {
            "text/plain": [
              "1.6448536269514722"
            ]
          },
          "metadata": {},
          "execution_count": 2
        }
      ]
    },
    {
      "cell_type": "code",
      "source": [
        "## Z-score of 94% confidence interval\n",
        "stats.norm.ppf(0.97)"
      ],
      "metadata": {
        "colab": {
          "base_uri": "https://localhost:8080/"
        },
        "id": "t9f3B0fTNT6C",
        "outputId": "45f4bd95-fd0c-4be1-f31d-fb1a87076dab"
      },
      "execution_count": null,
      "outputs": [
        {
          "output_type": "execute_result",
          "data": {
            "text/plain": [
              "1.8807936081512509"
            ]
          },
          "metadata": {},
          "execution_count": 3
        }
      ]
    },
    {
      "cell_type": "code",
      "source": [
        "## Z-score of 60% confidence interval\n",
        "stats.norm.ppf(0.8)"
      ],
      "metadata": {
        "colab": {
          "base_uri": "https://localhost:8080/"
        },
        "id": "AOfaITehNV9C",
        "outputId": "09f6ae0f-8287-44cb-ceda-c0ee29e00d28"
      },
      "execution_count": null,
      "outputs": [
        {
          "output_type": "execute_result",
          "data": {
            "text/plain": [
              "0.8416212335729143"
            ]
          },
          "metadata": {},
          "execution_count": 4
        }
      ]
    },
    {
      "cell_type": "markdown",
      "source": [
        "# Question no 23"
      ],
      "metadata": {
        "id": "LcRXHnFfSDd_"
      }
    },
    {
      "cell_type": "code",
      "source": [
        "## t scores of 95% confidence interval for sample size of 25\n",
        "# degree of freedom = n-1 = 24\n",
        "stats.t.ppf(0.975,24)  "
      ],
      "metadata": {
        "colab": {
          "base_uri": "https://localhost:8080/"
        },
        "id": "r3SHDlxKNX_l",
        "outputId": "23355faa-0712-4ee9-ec83-ae942c4ea301"
      },
      "execution_count": null,
      "outputs": [
        {
          "output_type": "execute_result",
          "data": {
            "text/plain": [
              "2.0638985616280205"
            ]
          },
          "metadata": {},
          "execution_count": 5
        }
      ]
    },
    {
      "cell_type": "code",
      "source": [
        "## t scores of 96% confidence interval for sample size of 25\n",
        "stats.t.ppf(0.98,24)"
      ],
      "metadata": {
        "colab": {
          "base_uri": "https://localhost:8080/"
        },
        "id": "OGSSSo5NOU_8",
        "outputId": "bf21172a-ca5c-446f-a0ce-6f546a4d9e3e"
      },
      "execution_count": null,
      "outputs": [
        {
          "output_type": "execute_result",
          "data": {
            "text/plain": [
              "2.1715446760080677"
            ]
          },
          "metadata": {},
          "execution_count": 6
        }
      ]
    },
    {
      "cell_type": "code",
      "source": [
        "## t scores of 99% confidence interval for sample size of 25\n",
        "stats.t.ppf(0.995,24)"
      ],
      "metadata": {
        "colab": {
          "base_uri": "https://localhost:8080/"
        },
        "id": "hs69EJLuOXtm",
        "outputId": "1eade795-5298-47a5-8b4c-2028e0f16efa"
      },
      "execution_count": null,
      "outputs": [
        {
          "output_type": "execute_result",
          "data": {
            "text/plain": [
              "2.796939504772804"
            ]
          },
          "metadata": {},
          "execution_count": 7
        }
      ]
    },
    {
      "cell_type": "code",
      "source": [
        ""
      ],
      "metadata": {
        "id": "Y0D58TTQOe1Q"
      },
      "execution_count": null,
      "outputs": []
    },
    {
      "cell_type": "code",
      "source": [
        ""
      ],
      "metadata": {
        "id": "WKV5K3dTOaS1"
      },
      "execution_count": null,
      "outputs": []
    }
  ]
}